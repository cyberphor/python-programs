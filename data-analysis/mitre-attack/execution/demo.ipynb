{
 "cells": [
  {
   "cell_type": "code",
   "execution_count": 1,
   "metadata": {},
   "outputs": [
    {
     "data": {
      "text/plain": [
       "0       The audit log was cleared.\\r\\nSubject:\\r\\n\\tSe...\n",
       "1       The Windows Filtering Platform has permitted a...\n",
       "2       The Windows Filtering Platform has permitted a...\n",
       "3       A new process has been created.\\r\\n\\r\\nCreator...\n",
       "4       An attempt was made to duplicate a handle to a...\n",
       "                              ...                        \n",
       "2390    Registry value set:\\r\\nRuleName: -\\r\\nEventTyp...\n",
       "2391    Registry value set:\\r\\nRuleName: -\\r\\nEventTyp...\n",
       "2392    Registry object added or deleted:\\r\\nRuleName:...\n",
       "2393    Registry value set:\\r\\nRuleName: -\\r\\nEventTyp...\n",
       "2394    Registry value set:\\r\\nRuleName: -\\r\\nEventTyp...\n",
       "Name: Message, Length: 2395, dtype: object"
      ]
     },
     "execution_count": 1,
     "metadata": {},
     "output_type": "execute_result"
    }
   ],
   "source": [
    "import pandas as pd\n",
    "\n",
    "# import the dataset (using lines = True because of newlines in text)\n",
    "df = pd.read_json(\n",
    "    path_or_buf = \"psh_python_webserver_2020-10-2900161507.json\",\n",
    "    lines = True\n",
    ")\n",
    "\n",
    "df[\"Message\"]\n"
   ]
  }
 ],
 "metadata": {
  "kernelspec": {
   "display_name": "Python 3",
   "language": "python",
   "name": "python3"
  },
  "language_info": {
   "codemirror_mode": {
    "name": "ipython",
    "version": 3
   },
   "file_extension": ".py",
   "mimetype": "text/x-python",
   "name": "python",
   "nbconvert_exporter": "python",
   "pygments_lexer": "ipython3",
   "version": "3.10.5"
  },
  "orig_nbformat": 4
 },
 "nbformat": 4,
 "nbformat_minor": 2
}
