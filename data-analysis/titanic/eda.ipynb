{
 "cells": [
  {
   "cell_type": "markdown",
   "metadata": {},
   "source": [
    "### Import Data"
   ]
  },
  {
   "cell_type": "code",
   "execution_count": 2,
   "metadata": {},
   "outputs": [],
   "source": [
    "import pandas as pd\n",
    "df = pd.read_csv(\"titanic.csv\")"
   ]
  },
  {
   "cell_type": "markdown",
   "metadata": {},
   "source": [
    "### ???"
   ]
  },
  {
   "cell_type": "code",
   "execution_count": 6,
   "metadata": {},
   "outputs": [
    {
     "data": {
      "text/plain": [
       "891"
      ]
     },
     "execution_count": 6,
     "metadata": {},
     "output_type": "execute_result"
    }
   ],
   "source": [
    "df['PassengerId'].nunique()"
   ]
  },
  {
   "cell_type": "markdown",
   "metadata": {},
   "source": [
    "### Dealing with Null Values"
   ]
  },
  {
   "cell_type": "code",
   "execution_count": null,
   "metadata": {},
   "outputs": [],
   "source": [
    "# keep Age column and create a new column called Age_Fill\n",
    "df[\"Age_Fill\"] = df[\"Age\"]\n",
    "\n",
    "# fill Age_Fill column using average of demographics (Pclass, Survived, Sex)\n",
    "df[\"Age_Fill\"] = df[\"Age_Fill\"].groupby(\n",
    "    [df[\"Pclass\"], df[\"Survived\"], df[\"Sex\"]], group_keys = False).apply(\n",
    "      lambda x: x.fillna(x.mean())\n",
    ")\n",
    "\n",
    "# review data\n",
    "df.isnull().sum()"
   ]
  },
  {
   "cell_type": "markdown",
   "metadata": {},
   "source": [
    "### Filtering Data into Separate Data Frames"
   ]
  },
  {
   "cell_type": "code",
   "execution_count": null,
   "metadata": {},
   "outputs": [],
   "source": [
    "survived = df[df[\"Survived\"] == 1]\n",
    "died = df[df[\"Survived\"] == 0]\n",
    "\n",
    "print(\"These people survived.\")\n",
    "survived"
   ]
  },
  {
   "cell_type": "markdown",
   "metadata": {},
   "source": [
    "### Histographs: Age Distribution"
   ]
  },
  {
   "cell_type": "code",
   "execution_count": 1,
   "metadata": {},
   "outputs": [
    {
     "ename": "ImportError",
     "evalue": "cannot import name 'sns' from 'matplotlib' (c:\\Users\\Victor\\AppData\\Local\\Programs\\Python\\Python310\\lib\\site-packages\\matplotlib\\__init__.py)",
     "output_type": "error",
     "traceback": [
      "\u001b[1;31m---------------------------------------------------------------------------\u001b[0m",
      "\u001b[1;31mImportError\u001b[0m                               Traceback (most recent call last)",
      "Cell \u001b[1;32mIn[1], line 1\u001b[0m\n\u001b[1;32m----> 1\u001b[0m \u001b[39mfrom\u001b[39;00m \u001b[39mmatplotlib\u001b[39;00m \u001b[39mimport\u001b[39;00m pyplot, sns\n\u001b[0;32m      3\u001b[0m \u001b[39m# setup figure and axis\u001b[39;00m\n\u001b[0;32m      4\u001b[0m fig, ax \u001b[39m=\u001b[39m pyplot\u001b[39m.\u001b[39msubplots(figsize \u001b[39m=\u001b[39m (\u001b[39m10\u001b[39m,\u001b[39m6\u001b[39m))\n",
      "\u001b[1;31mImportError\u001b[0m: cannot import name 'sns' from 'matplotlib' (c:\\Users\\Victor\\AppData\\Local\\Programs\\Python\\Python310\\lib\\site-packages\\matplotlib\\__init__.py)"
     ]
    }
   ],
   "source": [
    "from matplotlib import pyplot\n",
    "\n",
    "# setup figure and axis\n",
    "fig, ax = pyplot.subplots(figsize = (10,6))\n",
    "n, bins, patches = ax.hist(\n",
    "    x = df[\"Age\"], bins = 20\n",
    ")\n",
    "\n",
    "# find the index of largest/smallest bar\n",
    "largest_bar = n.argmax()\n",
    "lowest_bar = n.argmin()\n",
    "\n",
    "# \n",
    "patches[largest_bar].set_fc(\"Red\")\n",
    "patches[lowest_bar].set_fc(\"Orange\")\n",
    "\n",
    "# \n",
    "pyplot.show()"
   ]
  },
  {
   "cell_type": "markdown",
   "metadata": {},
   "source": [
    "### Stacked Histogram"
   ]
  },
  {
   "cell_type": "code",
   "execution_count": null,
   "metadata": {},
   "outputs": [],
   "source": [
    "# set up the figure and axis\n",
    "fig, ax = pyplot.subplots(figsize = (10, 6))\n",
    "\n",
    "# plot the histogram for passengers who survived\n",
    "sns.histplot(\n",
    "    survived[\"Age\"], bins = 20,\n",
    ")\n",
    "\n",
    "# plot the histogram for passenger who died\n",
    "\n",
    "# set x label\n",
    "\n",
    "# set y label\n",
    "\n",
    "# set legend\n",
    "\n",
    "# show plot"
   ]
  },
  {
   "cell_type": "markdown",
   "metadata": {},
   "source": [
    "### Age Distribution with Bins"
   ]
  },
  {
   "cell_type": "code",
   "execution_count": null,
   "metadata": {},
   "outputs": [],
   "source": [
    "# set up the figure and axis\n",
    "fig, ax = pyplot.subplots(figsize = (10, 6))\n",
    "\n",
    "# group ages into bins (adjust the bin size as needed)\n",
    "bins = [0, 10, 20, 30, 40, 50, 60, 70, 80]\n",
    "\n",
    "df[\"Age_Bin\"] = pd.cut(df[\"Age\"], bins)\n",
    "\n",
    "# plot the count plot for ???\n",
    "\n",
    "# set x label\n",
    "\n",
    "# set y label\n",
    "\n",
    "# show plot\n",
    "pyplot.xticks(rotation = 45)\n",
    "pyplot.show()"
   ]
  },
  {
   "cell_type": "markdown",
   "metadata": {},
   "source": [
    "### Refilter Data for Passengers Who Survived and Died"
   ]
  },
  {
   "cell_type": "code",
   "execution_count": null,
   "metadata": {},
   "outputs": [],
   "source": [
    "# set up the figure and axis\n",
    "fig, ax = pyplot.subplots(figsize = (10, 6))\n",
    "\n",
    "# group ages into bins (adjust the bin size as needed)\n",
    "bins = [0, 10, 20, 30, 40, 50, 60, 70, 80]\n",
    "\n",
    "sns.countplot(survived[\"Age_Bin\"], hue = (survived[\"Sex\"]))\n",
    "\n",
    "# plot the count plot for ???\n",
    "\n",
    "\n",
    "# set x label\n",
    "pyplot.xlabel(\"Age\")\n",
    "\n",
    "# set y label\n",
    "pyplot.ylabel(\"Count\")\n",
    "\n",
    "# show plot\n",
    "pyplot.xticks(rotation = 45)\n",
    "pyplot.show()"
   ]
  },
  {
   "cell_type": "markdown",
   "metadata": {},
   "source": [
    "### Calculating Proportions"
   ]
  },
  {
   "cell_type": "code",
   "execution_count": null,
   "metadata": {},
   "outputs": [],
   "source": [
    "total_group = df[\"Pclass\"].groupby(\n",
    "    [df[\"age_bin\"], df[\"Sex\"]]\n",
    ").count()\n",
    "\n",
    "survived_group = survived[\"Pclass\"].groupby(\n",
    "    \n",
    ")"
   ]
  },
  {
   "cell_type": "markdown",
   "metadata": {},
   "source": [
    "### Colors"
   ]
  },
  {
   "cell_type": "code",
   "execution_count": null,
   "metadata": {},
   "outputs": [],
   "source": [
    "# color = R, G, B, Transparency"
   ]
  }
 ],
 "metadata": {
  "kernelspec": {
   "display_name": "Python 3",
   "language": "python",
   "name": "python3"
  },
  "language_info": {
   "codemirror_mode": {
    "name": "ipython",
    "version": 3
   },
   "file_extension": ".py",
   "mimetype": "text/x-python",
   "name": "python",
   "nbconvert_exporter": "python",
   "pygments_lexer": "ipython3",
   "version": "3.10.5"
  },
  "orig_nbformat": 4
 },
 "nbformat": 4,
 "nbformat_minor": 2
}
